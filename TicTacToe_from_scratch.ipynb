{
  "nbformat": 4,
  "nbformat_minor": 0,
  "metadata": {
    "colab": {
      "name": "TicTacToe from scratch.ipynb",
      "provenance": [],
      "authorship_tag": "ABX9TyOptA3JYLY/Y9e7p4G8AZIY",
      "include_colab_link": true
    },
    "kernelspec": {
      "name": "python3",
      "display_name": "Python 3"
    },
    "language_info": {
      "name": "python"
    }
  },
  "cells": [
    {
      "cell_type": "markdown",
      "metadata": {
        "id": "view-in-github",
        "colab_type": "text"
      },
      "source": [
        "<a href=\"https://colab.research.google.com/github/tonyh6369/tictactoe/blob/main/TicTacToe_from_scratch.ipynb\" target=\"_parent\"><img src=\"https://colab.research.google.com/assets/colab-badge.svg\" alt=\"Open In Colab\"/></a>"
      ]
    },
    {
      "cell_type": "code",
      "execution_count": null,
      "metadata": {
        "id": "HgsWFMVWbQ27"
      },
      "outputs": [],
      "source": [
        "import numpy as np\n",
        "\n",
        "MARKS = {0: 'X', 1: 'O'}\n",
        "class Board:\n",
        "    def __init__(self):\n",
        "        self.state = [None] * 9\n",
        "        self.counter = 0\n",
        "        # self.state[4] = 0\n",
        "        # self.state[6] = 1\n",
        "        # print(self.state)\n",
        "\n",
        "    def render(self):\n",
        "        text = \"\"\"\n",
        "0|1|2\n",
        "-----\n",
        "3|4|5\n",
        "-----\n",
        "6|7|8\n",
        "        \"\"\"\n",
        "        for idx, x in enumerate(self.state):\n",
        "            if x is not None:\n",
        "                text = text.replace(str(idx), MARKS[x])\n",
        "        print(text)\n",
        "    \n",
        "    def move(self, idx):\n",
        "        if self.state[idx] is not None:\n",
        "            return False\n",
        "        player = self.counter % 2\n",
        "        self.state[idx] = player\n",
        "        self.counter += 1\n",
        "        return True\n",
        "    \n",
        "    def unmove(self, idx):\n",
        "        self.counter -= 1\n",
        "        self.state[idx] = None\n",
        "\n",
        "    def is_win(self, player):\n",
        "        s = self.state\n",
        "        if(\n",
        "            s[0] == s[1] == s[2] == player or\n",
        "            s[3] == s[4] == s[5] == player or\n",
        "            s[6] == s[7] == s[8] == player or\n",
        "            s[0] == s[3] == s[6] == player or\n",
        "            s[1] == s[4] == s[7] == player or\n",
        "            s[2] == s[5] == s[8] == player or\n",
        "            s[0] == s[4] == s[8] == player or\n",
        "            s[2] == s[4] == s[6] == player\n",
        "        ):\n",
        "            return True\n",
        "        return False\n",
        "    \n",
        "    def is_end(self):\n",
        "        if None in self.state:\n",
        "            return False\n",
        "        return True\n",
        "    \n",
        "    def valid_moves(self):\n",
        "        moves = []\n",
        "        for idx, player in enumerate(self.state):\n",
        "            if player is None:\n",
        "                moves.append(idx)\n",
        "        return moves\n",
        "\n",
        "class RandomPlayer:\n",
        "    def play(self, board):\n",
        "        moves = board.valid_moves()\n",
        "        idx = np.random.choice(moves)\n",
        "        print('Random player: ', idx)\n",
        "        board.move(idx)\n",
        "\n",
        "class BetterPlayer:\n",
        "    def __init__(self, player):\n",
        "        self.player = player\n",
        "\n",
        "    def play(self, board):\n",
        "        moves = board.valid_moves()\n",
        "        for idx in moves:\n",
        "            board.move(idx)\n",
        "            if board.is_win(self.player):\n",
        "                return\n",
        "            # move backwards\n",
        "            board.unmove(idx)\n",
        "        idx = np.random.choice(moves)\n",
        "        print('Better player: ', idx)\n",
        "        board.move(idx)\n",
        "\n",
        "def minimax(board, player):\n",
        "    # base\n",
        "    maximize_player = 0\n",
        "    minimize_player = 1\n",
        "\n",
        "    if board.is_win(maximize_player):\n",
        "        return (1, None)\n",
        "    elif board.is_win(minimize_player):\n",
        "        return (-1, None)\n",
        "    elif board.is_end():\n",
        "        return (0, None)\n",
        "    \n",
        "    opp = 1 if player == 0 else 0\n",
        "    if player == maximize_player:\n",
        "        max_score = -np.inf\n",
        "        max_idx = None\n",
        "\n",
        "        for idx in board.valid_moves():\n",
        "            board.move(idx)\n",
        "            score, next_idx = minimax(board, opp)\n",
        "            if max_score < score:\n",
        "                max_score = score\n",
        "                max_idx = idx\n",
        "            board.unmove(idx)\n",
        "        return (max_score, max_idx)\n",
        "    else: ## minimize\n",
        "        min_score = np.inf\n",
        "        min_idx = None\n",
        "\n",
        "        for idx in board.valid_moves():\n",
        "            board.move(idx)\n",
        "            score, next_idx = minimax(board, opp)\n",
        "            if min_score > score:\n",
        "                min_score = score\n",
        "                min_idx = idx\n",
        "            board.unmove(idx)\n",
        "        return (min_score, min_idx)\n",
        "\n",
        "class BestPlayer:\n",
        "    def __init__(self, player):\n",
        "        self.player = player\n",
        "    def play(self, board):\n",
        "        score, idx = minimax(board, self.player)\n",
        "        print(\"AI: \", idx)\n",
        "        board.move(idx)\n",
        "\n",
        "class HumanPlayer:\n",
        "    def play(self, board):\n",
        "        print('Enter 0-8: ', end=\"\")\n",
        "        idx = input()\n",
        "        while True:\n",
        "            try:\n",
        "                idx = int(idx)\n",
        "                success = board.move(idx)\n",
        "                if success:\n",
        "                    break\n",
        "                else:\n",
        "                    print(\"Invalid number. Try again.\")\n",
        "            except ValueError:\n",
        "                pass"
      ]
    },
    {
      "cell_type": "code",
      "source": [
        "board = Board()\n",
        "players = [BestPlayer(0), HumanPlayer()]\n",
        "player = 0\n",
        "\n",
        "while True:\n",
        "    p = players[player]\n",
        "    p.play(board)\n",
        "    board.render()\n",
        "    if board.is_win(player): # the other won't win, this player wins or not\n",
        "        print(MARKS[player] + \" wins!\")\n",
        "        break\n",
        "    elif board.is_end():\n",
        "        print(\"draw\")\n",
        "        break\n",
        "    \n",
        "    player = 1 if player == 0 else 0"
      ],
      "metadata": {
        "colab": {
          "base_uri": "https://localhost:8080/"
        },
        "id": "Afn3RLYI97eL",
        "outputId": "89caf000-42ab-419d-bd50-8dc8da3632db"
      },
      "execution_count": null,
      "outputs": [
        {
          "output_type": "stream",
          "name": "stdout",
          "text": [
            "AI:  0\n",
            "\n",
            "X|1|2\n",
            "-----\n",
            "3|4|5\n",
            "-----\n",
            "6|7|8\n",
            "        \n",
            "Enter 0-8: 2\n",
            "\n",
            "X|1|O\n",
            "-----\n",
            "3|4|5\n",
            "-----\n",
            "6|7|8\n",
            "        \n",
            "AI:  3\n",
            "\n",
            "X|1|O\n",
            "-----\n",
            "X|4|5\n",
            "-----\n",
            "6|7|8\n",
            "        \n",
            "Enter 0-8: 4\n",
            "\n",
            "X|1|O\n",
            "-----\n",
            "X|O|5\n",
            "-----\n",
            "6|7|8\n",
            "        \n",
            "AI:  6\n",
            "\n",
            "X|1|O\n",
            "-----\n",
            "X|O|5\n",
            "-----\n",
            "X|7|8\n",
            "        \n",
            "X wins!\n"
          ]
        }
      ]
    },
    {
      "cell_type": "code",
      "source": [
        "board = Board()\n",
        "board.move(0)\n",
        "board.move(1)\n",
        "board.move(2)\n",
        "board.render()\n",
        "\n",
        "best_score, best_idx = minimax(board, 1)\n",
        "print(best_score, best_idx)"
      ],
      "metadata": {
        "colab": {
          "base_uri": "https://localhost:8080/"
        },
        "id": "pFirk93m8-6W",
        "outputId": "527aa237-9811-421d-ea2a-bf43eeb14717"
      },
      "execution_count": null,
      "outputs": [
        {
          "output_type": "stream",
          "name": "stdout",
          "text": [
            "\n",
            "X|O|X\n",
            "-----\n",
            "3|4|5\n",
            "-----\n",
            "6|7|8\n",
            "        \n",
            "0 4\n"
          ]
        }
      ]
    },
    {
      "cell_type": "code",
      "source": [
        "board = Board()\n",
        "players = [BetterPlayer(0), RandomPlayer()]\n",
        "player = 0\n",
        "\n",
        "while True:\n",
        "    p = players[player]\n",
        "    p.play(board)\n",
        "    board.render()\n",
        "    if board.is_win(player): # the other won't win, this player wins or not\n",
        "        print(MARKS[player] + \" wins!\")\n",
        "        break\n",
        "    elif board.is_end():\n",
        "        print(\"draw\")\n",
        "        break\n",
        "    \n",
        "    player = 1 if player == 0 else 0\n"
      ],
      "metadata": {
        "id": "l6vDl15UiJ3A"
      },
      "execution_count": null,
      "outputs": []
    },
    {
      "cell_type": "code",
      "source": [
        "board = Board()\n",
        "\n",
        "board.move(2)\n",
        "board.move(5)\n",
        "board.move(4)\n",
        "board.move(0)\n",
        "board.move(6)\n",
        "# board.move(1)\n",
        "# board.move(3)\n",
        "# board.move(7)\n",
        "# board.move(8)\n",
        "\n",
        "\n",
        "print(board.is_end())\n",
        "print(board.valid_moves())\n",
        "board.render()"
      ],
      "metadata": {
        "colab": {
          "base_uri": "https://localhost:8080/"
        },
        "id": "i3d2nHLsbV26",
        "outputId": "7e479c92-59a0-4d29-d36a-0f717a9c4757"
      },
      "execution_count": null,
      "outputs": [
        {
          "output_type": "stream",
          "name": "stdout",
          "text": [
            "False\n",
            "[1, 3, 7, 8]\n",
            "\n",
            "O|1|X\n",
            "-----\n",
            "3|X|O\n",
            "-----\n",
            "X|7|8\n",
            "        \n"
          ]
        }
      ]
    },
    {
      "cell_type": "code",
      "source": [
        ""
      ],
      "metadata": {
        "id": "ss36mAupbyx1"
      },
      "execution_count": null,
      "outputs": []
    }
  ]
}